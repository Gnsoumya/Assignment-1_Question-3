{
 "cells": [
  {
   "cell_type": "code",
   "execution_count": 3,
   "id": "50a2eaa8",
   "metadata": {},
   "outputs": [
    {
     "name": "stdout",
     "output_type": "stream",
     "text": [
      "even numbers in above list 4\n",
      "odd numbers in above list 5\n"
     ]
    }
   ],
   "source": [
    "Num=(1,2,3,4,5,6,7,8,9)\n",
    "even_count = 0\n",
    "odd_count = 0\n",
    "for a in Num:\n",
    "    if a %2 == 0:\n",
    "        even_count += 1\n",
    "    else:\n",
    "        odd_count += 1\n",
    "print(\"even numbers in above list\" , even_count)\n",
    "print(\"odd numbers in above list\" , odd_count)"
   ]
  },
  {
   "cell_type": "code",
   "execution_count": null,
   "id": "f8b183d2",
   "metadata": {},
   "outputs": [],
   "source": []
  }
 ],
 "metadata": {
  "kernelspec": {
   "display_name": "Python 3 (ipykernel)",
   "language": "python",
   "name": "python3"
  },
  "language_info": {
   "codemirror_mode": {
    "name": "ipython",
    "version": 3
   },
   "file_extension": ".py",
   "mimetype": "text/x-python",
   "name": "python",
   "nbconvert_exporter": "python",
   "pygments_lexer": "ipython3",
   "version": "3.10.0"
  }
 },
 "nbformat": 4,
 "nbformat_minor": 5
}
